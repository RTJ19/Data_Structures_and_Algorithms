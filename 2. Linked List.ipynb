{
 "cells": [
  {
   "cell_type": "markdown",
   "metadata": {},
   "source": [
    "# Singly Linked List"
   ]
  },
  {
   "cell_type": "markdown",
   "metadata": {},
   "source": [
    "https://www.w3resource.com/python-exercises/data-structures-and-algorithms/python-linked-list.php"
   ]
  },
  {
   "cell_type": "markdown",
   "metadata": {},
   "source": [
    "Write a Python program to create a singly linked list, append some items and iterate through the list"
   ]
  },
  {
   "cell_type": "code",
   "execution_count": 343,
   "metadata": {},
   "outputs": [],
   "source": [
    "class Node:\n",
    "    \n",
    "    # Singly linked node\n",
    "    def __init__(self, data=None):\n",
    "        self.data = data\n",
    "        self.next = None\n",
    "        \n",
    "class singly_linked_list:\n",
    "   \n",
    "    def __init__(self):\n",
    "        self.tail = None\n",
    "        self.head = None\n",
    "        self.count = 0\n",
    "        \n",
    "    def append_item(self,data):\n",
    "        node = Node(data)\n",
    "\n",
    "        if self.tail:\n",
    "            self.tail.next=node #php.next=python,python.next=c#.... Jav.next will be None, This line has to come first\n",
    "            self.tail = node #python,c#\n",
    "        else:\n",
    "            # for the very first element, Here tail and tail is same\n",
    "            self.head=node #php this will be tail forever, This is also first item\n",
    "            self.tail=node #php\n",
    "        self.count += 1\n",
    "        \n",
    "    def iterate_item(self):\n",
    "        # Iterate the list.\n",
    "        current_item = self.head\n",
    "        while current_item: # as long as it is not None\n",
    "            val = current_item.data\n",
    "            current_item = current_item.next\n",
    "            yield (val)\n",
    "    \n",
    "    # Write a Python program to delete the first item from a singly linked list\n",
    "    \n",
    "    def del_first_item(self):\n",
    "        current_item = self.head\n",
    "        self.head = current_item.next\n",
    "        self.count -= 1\n",
    "        \n",
    "    # Write a Python program to delete the last item from a singly linked list\n",
    "    \n",
    "    def del_last_item(self):\n",
    "        current_item = self.head\n",
    "        for i in range(self.count-2):\n",
    "            current_item = current_item.next\n",
    "        self.tail = current_item\n",
    "        self.tail.next =None\n",
    "        self.count -= 1\n",
    "    \n",
    "    # Write a Python program to search a specific item in a \n",
    "    # singly linked list and return true if the item is found otherwise return false\n",
    "    \n",
    "    def search(self,check):\n",
    "        for val in self.iterate_item():\n",
    "            if check == val:\n",
    "                return True\n",
    "        return False\n",
    "    \n",
    "    # Write a Python program to access a specific item in a singly linked list using index value\n",
    "    \n",
    "    def index_search(self,index):\n",
    "        #corner case\n",
    "        if index>self.count or index<0:\n",
    "            return \"Index out of range\"\n",
    "        current_item = self.head\n",
    "        for i in range(index):\n",
    "            current_item = current_item.next\n",
    "        return current_item.data\n",
    "        \n",
    "    # Write a Python program to set a new value of an item in a singly linked list using index value\n",
    "    \n",
    "    def set_value_index(self,index,value):\n",
    "        #corner case\n",
    "        if index>self.count or index<0:\n",
    "            return \"Index out of range\"\n",
    "        current_item = self.head\n",
    "        for i in range(index):\n",
    "            current_item = current_item.next\n",
    "        current_item.data = value"
   ]
  },
  {
   "cell_type": "code",
   "execution_count": 344,
   "metadata": {},
   "outputs": [
    {
     "name": "stdout",
     "output_type": "stream",
     "text": [
      "PHP\n",
      "Python\n",
      "C#\n",
      "C++\n",
      "Java\n"
     ]
    }
   ],
   "source": [
    "items = singly_linked_list()\n",
    "items.append_item('PHP')\n",
    "items.append_item('Python')\n",
    "items.append_item('C#')\n",
    "items.append_item('C++')\n",
    "items.append_item('Java')\n",
    "\n",
    "for val in items.iterate_item():\n",
    "    print(val)"
   ]
  },
  {
   "cell_type": "code",
   "execution_count": 345,
   "metadata": {},
   "outputs": [
    {
     "name": "stdout",
     "output_type": "stream",
     "text": [
      "Python\n",
      "C#\n",
      "C++\n",
      "Java\n"
     ]
    }
   ],
   "source": [
    "items.del_first_item()\n",
    "for val in items.iterate_item():\n",
    "    print(val)"
   ]
  },
  {
   "cell_type": "code",
   "execution_count": 346,
   "metadata": {},
   "outputs": [
    {
     "name": "stdout",
     "output_type": "stream",
     "text": [
      "Python\n",
      "C#\n",
      "C++\n"
     ]
    }
   ],
   "source": [
    "items.del_last_item()\n",
    "for val in items.iterate_item():\n",
    "    print(val)"
   ]
  },
  {
   "cell_type": "code",
   "execution_count": 347,
   "metadata": {},
   "outputs": [
    {
     "data": {
      "text/plain": [
       "3"
      ]
     },
     "execution_count": 347,
     "metadata": {},
     "output_type": "execute_result"
    }
   ],
   "source": [
    "# Write a Python program to find the size of a singly linked list.\n",
    "items.count"
   ]
  },
  {
   "cell_type": "code",
   "execution_count": 349,
   "metadata": {},
   "outputs": [
    {
     "data": {
      "text/plain": [
       "True"
      ]
     },
     "execution_count": 349,
     "metadata": {},
     "output_type": "execute_result"
    }
   ],
   "source": [
    "items.search('Python')"
   ]
  },
  {
   "cell_type": "code",
   "execution_count": 350,
   "metadata": {},
   "outputs": [
    {
     "data": {
      "text/plain": [
       "False"
      ]
     },
     "execution_count": 350,
     "metadata": {},
     "output_type": "execute_result"
    }
   ],
   "source": [
    "items.search('Java1')"
   ]
  },
  {
   "cell_type": "code",
   "execution_count": 351,
   "metadata": {},
   "outputs": [
    {
     "data": {
      "text/plain": [
       "'C++'"
      ]
     },
     "execution_count": 351,
     "metadata": {},
     "output_type": "execute_result"
    }
   ],
   "source": [
    "items.index_search(2)"
   ]
  },
  {
   "cell_type": "code",
   "execution_count": 352,
   "metadata": {},
   "outputs": [
    {
     "name": "stdout",
     "output_type": "stream",
     "text": [
      "C++\n",
      "Django\n"
     ]
    }
   ],
   "source": [
    "print (items.index_search(2))\n",
    "items.set_value_index(2,'Django')\n",
    "print (items.index_search(2))"
   ]
  },
  {
   "cell_type": "markdown",
   "metadata": {},
   "source": [
    "# Doubly Linked List"
   ]
  },
  {
   "cell_type": "markdown",
   "metadata": {},
   "source": [
    "Write a Python program to create a doubly linked list, append some items and iterate through the list (print forward)."
   ]
  },
  {
   "cell_type": "code",
   "execution_count": 354,
   "metadata": {},
   "outputs": [],
   "source": [
    "class Node(object):\n",
    "    \n",
    "    # Doubly linked node\n",
    "    def __init__(self, data):\n",
    "        self.data = data\n",
    "        self.nxt = None\n",
    "        self.prev = None\n",
    "        \n",
    "class doubly_linked_list(object):\n",
    "    \n",
    "    def __init__(self):\n",
    "        self.tail = None\n",
    "        self.head = None\n",
    "        self.count = 0 \n",
    "        \n",
    "    def append_item(self,data):\n",
    "        node = Node(data)\n",
    "        if self.tail:\n",
    "            node.prev = self.tail\n",
    "            self.tail.nxt = node\n",
    "            self.tail = node    \n",
    "        else:\n",
    "            self.head = node\n",
    "            self.tail = node\n",
    "        self.count += 1\n",
    "    \n",
    "    def iterate_item(self):\n",
    "        current_item = self.head\n",
    "        while current_item: # as long as it is not None\n",
    "            val = current_item.data\n",
    "            current_item = current_item.nxt\n",
    "            yield (val)\n",
    "    \n",
    "    def print_forward(self):\n",
    "        for val in self.iterate_item():\n",
    "            print(val)\n",
    "    \n",
    "    # print nodes from current position to first node\n",
    "    \n",
    "    def print_rev_from_index(self,index):\n",
    "        if index>self.count or index<0:\n",
    "            return \"Index out of range\"\n",
    "        temp_list= []\n",
    "        current_item = self.head\n",
    "        for i in range(index):\n",
    "            val = current_item.data\n",
    "            temp_list.append(val)\n",
    "            current_item = current_item.nxt\n",
    "        for item in reversed(temp_list):\n",
    "            print (item)\n",
    "            \n",
    "    # print a given doubly linked list in reverse order\n",
    "    \n",
    "    def reverse_order(self):\n",
    "        current_item = self.tail\n",
    "        while current_item:\n",
    "            val = current_item.data\n",
    "            current_item = current_item.prev\n",
    "            print (val)\n",
    "        \n",
    "    # insert an item in front of a given doubly linked list\n",
    "    \n",
    "    def insert_start(self,data):\n",
    "        node = Node(data)\n",
    "        node.nxt =self.head\n",
    "        self.head.prev = node\n",
    "        self.head = node\n",
    "        self.count += 1\n",
    "    \n",
    "    # search a specific item in a given doubly linked list and return true if the item is found otherwise return false.\n",
    "    \n",
    "    def search_item(self, data):\n",
    "        current_item = self.head\n",
    "        while current_item:\n",
    "            if data == current_item.data:\n",
    "                return True\n",
    "            current_item = current_item.nxt\n",
    "        return False\n",
    "    \n",
    "    # delete a specific item from a given doubly linked list\n",
    "    \n",
    "    def delete_value(self,data):\n",
    "        #corner case\n",
    "        temp_list=[]\n",
    "        for val in self.iterate_item():\n",
    "            temp_list.append(val)\n",
    "        if data not in temp_list:\n",
    "            return ('Value not there in list')\n",
    "            \n",
    "        if data == self.head.data:\n",
    "            self.head = self.head.nxt\n",
    "            self.head.prv = None\n",
    "            self.count -= 1\n",
    "        \n",
    "        elif data == self.tail.data:\n",
    "            self.tail = self.tail.prev\n",
    "            self.tail.nxt = None\n",
    "            self.count -= 1\n",
    "        \n",
    "        else:\n",
    "            current_item = self.head.nxt\n",
    "            while current_item:\n",
    "                val = current_item.data\n",
    "                if data == val:\n",
    "                    current_item.prev.nxt = current_item.nxt\n",
    "                    current_item.nxt.prev = current_item.prev\n",
    "                    self.count -= 1\n",
    "                    break\n",
    "                else:\n",
    "                    current_item = current_item.nxt"
   ]
  },
  {
   "cell_type": "code",
   "execution_count": 355,
   "metadata": {},
   "outputs": [
    {
     "name": "stdout",
     "output_type": "stream",
     "text": [
      "Items in the Doubly linked list: \n",
      "PHP\n",
      "Python\n",
      "C#\n",
      "C++\n",
      "Java\n"
     ]
    }
   ],
   "source": [
    "items = doubly_linked_list()\n",
    "items.append_item('PHP')\n",
    "items.append_item('Python')\n",
    "items.append_item('C#')\n",
    "items.append_item('C++')\n",
    "items.append_item('Java')\n",
    "\n",
    "print(\"Items in the Doubly linked list: \")\n",
    "items.print_forward()"
   ]
  },
  {
   "cell_type": "code",
   "execution_count": 358,
   "metadata": {},
   "outputs": [
    {
     "name": "stdout",
     "output_type": "stream",
     "text": [
      "Java\n",
      "C++\n",
      "C#\n",
      "Python\n",
      "PHP\n"
     ]
    }
   ],
   "source": [
    "items.reverse_order()"
   ]
  },
  {
   "cell_type": "code",
   "execution_count": 359,
   "metadata": {},
   "outputs": [
    {
     "name": "stdout",
     "output_type": "stream",
     "text": [
      "sql\n",
      "PHP\n",
      "Python\n",
      "C#\n",
      "C++\n",
      "Java\n"
     ]
    }
   ],
   "source": [
    "items.insert_start('sql')\n",
    "items.print_forward()"
   ]
  },
  {
   "cell_type": "code",
   "execution_count": 360,
   "metadata": {},
   "outputs": [
    {
     "name": "stdout",
     "output_type": "stream",
     "text": [
      "True\n"
     ]
    }
   ],
   "source": [
    "print (items.search_item('Java'))"
   ]
  },
  {
   "cell_type": "code",
   "execution_count": 361,
   "metadata": {},
   "outputs": [
    {
     "name": "stdout",
     "output_type": "stream",
     "text": [
      "False\n"
     ]
    }
   ],
   "source": [
    "print (items.search_item('Java1'))"
   ]
  },
  {
   "cell_type": "code",
   "execution_count": 362,
   "metadata": {},
   "outputs": [
    {
     "name": "stdout",
     "output_type": "stream",
     "text": [
      "sql\n",
      "PHP\n",
      "Python\n",
      "C++\n",
      "Java\n"
     ]
    }
   ],
   "source": [
    "# items.print_forward()\n",
    "items.delete_value('C#')\n",
    "items.print_forward()"
   ]
  },
  {
   "cell_type": "code",
   "execution_count": 363,
   "metadata": {},
   "outputs": [
    {
     "name": "stdout",
     "output_type": "stream",
     "text": [
      "PHP\n",
      "Python\n",
      "C++\n",
      "Java\n"
     ]
    }
   ],
   "source": [
    "# items.print_forward()\n",
    "items.delete_value('sql')\n",
    "items.print_forward()"
   ]
  },
  {
   "cell_type": "code",
   "execution_count": 364,
   "metadata": {},
   "outputs": [
    {
     "name": "stdout",
     "output_type": "stream",
     "text": [
      "PHP\n",
      "Python\n",
      "C++\n"
     ]
    }
   ],
   "source": [
    "# items.print_forward()\n",
    "items.delete_value('Java')\n",
    "items.print_forward()"
   ]
  },
  {
   "cell_type": "code",
   "execution_count": 365,
   "metadata": {},
   "outputs": [
    {
     "data": {
      "text/plain": [
       "'Value not there in list'"
      ]
     },
     "execution_count": 365,
     "metadata": {},
     "output_type": "execute_result"
    }
   ],
   "source": [
    "items.delete_value('Java')"
   ]
  },
  {
   "cell_type": "code",
   "execution_count": 367,
   "metadata": {},
   "outputs": [
    {
     "name": "stdout",
     "output_type": "stream",
     "text": [
      "Python\n",
      "PHP\n"
     ]
    }
   ],
   "source": [
    "items.print_rev_from_index(2)"
   ]
  },
  {
   "cell_type": "code",
   "execution_count": 368,
   "metadata": {},
   "outputs": [
    {
     "data": {
      "text/plain": [
       "3"
      ]
     },
     "execution_count": 368,
     "metadata": {},
     "output_type": "execute_result"
    }
   ],
   "source": [
    "#count the number of items of a given doubly linked list\n",
    "items.count"
   ]
  }
 ],
 "metadata": {
  "kernelspec": {
   "display_name": "Python 3",
   "language": "python",
   "name": "python3"
  },
  "language_info": {
   "codemirror_mode": {
    "name": "ipython",
    "version": 3
   },
   "file_extension": ".py",
   "mimetype": "text/x-python",
   "name": "python",
   "nbconvert_exporter": "python",
   "pygments_lexer": "ipython3",
   "version": "3.7.3"
  },
  "toc": {
   "base_numbering": 1,
   "nav_menu": {},
   "number_sections": true,
   "sideBar": true,
   "skip_h1_title": false,
   "title_cell": "Table of Contents",
   "title_sidebar": "Contents",
   "toc_cell": false,
   "toc_position": {},
   "toc_section_display": true,
   "toc_window_display": false
  }
 },
 "nbformat": 4,
 "nbformat_minor": 2
}
